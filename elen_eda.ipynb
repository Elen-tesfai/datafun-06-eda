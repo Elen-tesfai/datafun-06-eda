{
 "cells": [
  {
   "cell_type": "code",
   "execution_count": 4,
   "metadata": {},
   "outputs": [],
   "source": [
    "import pandas as pd\n",
    "import numpy as np\n",
    "import matplotlib.pyplot as plt\n",
    "import seaborn as sns"
   ]
  },
  {
   "cell_type": "code",
   "execution_count": 6,
   "metadata": {},
   "outputs": [
    {
     "data": {
      "text/html": [
       "<div>\n",
       "<style scoped>\n",
       "    .dataframe tbody tr th:only-of-type {\n",
       "        vertical-align: middle;\n",
       "    }\n",
       "\n",
       "    .dataframe tbody tr th {\n",
       "        vertical-align: top;\n",
       "    }\n",
       "\n",
       "    .dataframe thead th {\n",
       "        text-align: right;\n",
       "    }\n",
       "</style>\n",
       "<table border=\"1\" class=\"dataframe\">\n",
       "  <thead>\n",
       "    <tr style=\"text-align: right;\">\n",
       "      <th></th>\n",
       "      <th>PassengerId</th>\n",
       "      <th>Name</th>\n",
       "      <th>Sex</th>\n",
       "      <th>Age</th>\n",
       "      <th>SibSp</th>\n",
       "      <th>Parch</th>\n",
       "      <th>Ticket</th>\n",
       "      <th>Fare</th>\n",
       "      <th>Embarked</th>\n",
       "      <th>Survived</th>\n",
       "    </tr>\n",
       "  </thead>\n",
       "  <tbody>\n",
       "    <tr>\n",
       "      <th>0</th>\n",
       "      <td>1</td>\n",
       "      <td>John Doe</td>\n",
       "      <td>male</td>\n",
       "      <td>22</td>\n",
       "      <td>1</td>\n",
       "      <td>0</td>\n",
       "      <td>A/5 21171</td>\n",
       "      <td>7.25</td>\n",
       "      <td>S</td>\n",
       "      <td>0</td>\n",
       "    </tr>\n",
       "    <tr>\n",
       "      <th>1</th>\n",
       "      <td>2</td>\n",
       "      <td>Jane Smith</td>\n",
       "      <td>female</td>\n",
       "      <td>38</td>\n",
       "      <td>1</td>\n",
       "      <td>0</td>\n",
       "      <td>PC 17599</td>\n",
       "      <td>71.83</td>\n",
       "      <td>C</td>\n",
       "      <td>1</td>\n",
       "    </tr>\n",
       "    <tr>\n",
       "      <th>2</th>\n",
       "      <td>3</td>\n",
       "      <td>George Brown</td>\n",
       "      <td>male</td>\n",
       "      <td>26</td>\n",
       "      <td>0</td>\n",
       "      <td>0</td>\n",
       "      <td>113803</td>\n",
       "      <td>53.10</td>\n",
       "      <td>S</td>\n",
       "      <td>0</td>\n",
       "    </tr>\n",
       "    <tr>\n",
       "      <th>3</th>\n",
       "      <td>4</td>\n",
       "      <td>Mary Johnson</td>\n",
       "      <td>female</td>\n",
       "      <td>35</td>\n",
       "      <td>1</td>\n",
       "      <td>0</td>\n",
       "      <td>PC 17597</td>\n",
       "      <td>51.86</td>\n",
       "      <td>C</td>\n",
       "      <td>1</td>\n",
       "    </tr>\n",
       "    <tr>\n",
       "      <th>4</th>\n",
       "      <td>5</td>\n",
       "      <td>Robert Davis</td>\n",
       "      <td>male</td>\n",
       "      <td>27</td>\n",
       "      <td>0</td>\n",
       "      <td>0</td>\n",
       "      <td>373450</td>\n",
       "      <td>8.05</td>\n",
       "      <td>S</td>\n",
       "      <td>0</td>\n",
       "    </tr>\n",
       "  </tbody>\n",
       "</table>\n",
       "</div>"
      ],
      "text/plain": [
       "   PassengerId          Name     Sex  Age  SibSp  Parch     Ticket   Fare  \\\n",
       "0            1      John Doe    male   22      1      0  A/5 21171   7.25   \n",
       "1            2    Jane Smith  female   38      1      0   PC 17599  71.83   \n",
       "2            3  George Brown    male   26      0      0     113803  53.10   \n",
       "3            4  Mary Johnson  female   35      1      0   PC 17597  51.86   \n",
       "4            5  Robert Davis    male   27      0      0     373450   8.05   \n",
       "\n",
       "  Embarked  Survived  \n",
       "0        S         0  \n",
       "1        C         1  \n",
       "2        S         0  \n",
       "3        C         1  \n",
       "4        S         0  "
      ]
     },
     "execution_count": 6,
     "metadata": {},
     "output_type": "execute_result"
    }
   ],
   "source": [
    "# Load the Titanic dataset (make sure to adjust the path if necessary)\n",
    "df = pd.read_csv('titanic.csv')  # This assumes 'titanic.csv' is in the same directory\n",
    "\n",
    "# Display the first few rows of the dataset\n",
    "df.head()"
   ]
  },
  {
   "cell_type": "code",
   "execution_count": 7,
   "metadata": {},
   "outputs": [
    {
     "name": "stdout",
     "output_type": "stream",
     "text": [
      "Missing values in each column:\n",
      " PassengerId    0\n",
      "Name           0\n",
      "Sex            0\n",
      "Age            0\n",
      "SibSp          0\n",
      "Parch          0\n",
      "Ticket         0\n",
      "Fare           0\n",
      "Embarked       0\n",
      "Survived       0\n",
      "dtype: int64\n",
      "\n",
      "Data types of each column:\n",
      " PassengerId      int64\n",
      "Name            object\n",
      "Sex             object\n",
      "Age              int64\n",
      "SibSp            int64\n",
      "Parch            int64\n",
      "Ticket          object\n",
      "Fare           float64\n",
      "Embarked        object\n",
      "Survived         int64\n",
      "dtype: object\n",
      "\n",
      "Summary statistics:\n",
      "        PassengerId        Age     SibSp  Parch       Fare  Survived\n",
      "count     5.000000   5.000000  5.000000    5.0   5.000000  5.000000\n",
      "mean      3.000000  29.600000  0.600000    0.0  38.418000  0.400000\n",
      "std       1.581139   6.655825  0.547723    0.0  29.181629  0.547723\n",
      "min       1.000000  22.000000  0.000000    0.0   7.250000  0.000000\n",
      "25%       2.000000  26.000000  0.000000    0.0   8.050000  0.000000\n",
      "50%       3.000000  27.000000  1.000000    0.0  51.860000  0.000000\n",
      "75%       4.000000  35.000000  1.000000    0.0  53.100000  1.000000\n",
      "max       5.000000  38.000000  1.000000    0.0  71.830000  1.000000\n"
     ]
    }
   ],
   "source": [
    "# Check for missing values\n",
    "missing_values = df.isnull().sum()\n",
    "print(\"Missing values in each column:\\n\", missing_values)\n",
    "\n",
    "# Check data types\n",
    "data_types = df.dtypes\n",
    "print(\"\\nData types of each column:\\n\", data_types)\n",
    "\n",
    "# Display summary statistics\n",
    "summary_statistics = df.describe()\n",
    "print(\"\\nSummary statistics:\\n\", summary_statistics)"
   ]
  },
  {
   "cell_type": "code",
   "execution_count": 8,
   "metadata": {},
   "outputs": [
    {
     "name": "stdout",
     "output_type": "stream",
     "text": [
      "Negative values:\n",
      "    PassengerId Name  Sex  Age  SibSp  Parch Ticket  Fare Embarked  Survived\n",
      "0          NaN  NaN  NaN  NaN    NaN    NaN    NaN   NaN      NaN       NaN\n",
      "1          NaN  NaN  NaN  NaN    NaN    NaN    NaN   NaN      NaN       NaN\n",
      "2          NaN  NaN  NaN  NaN    NaN    NaN    NaN   NaN      NaN       NaN\n",
      "3          NaN  NaN  NaN  NaN    NaN    NaN    NaN   NaN      NaN       NaN\n",
      "4          NaN  NaN  NaN  NaN    NaN    NaN    NaN   NaN      NaN       NaN\n"
     ]
    }
   ],
   "source": [
    "# Check for negative values in numeric columns\n",
    "negative_values = df[df[['Age', 'Fare']] < 0]\n",
    "print(\"Negative values:\\n\", negative_values)"
   ]
  },
  {
   "cell_type": "code",
   "execution_count": 9,
   "metadata": {},
   "outputs": [
    {
     "name": "stdout",
     "output_type": "stream",
     "text": [
      "Duplicate rows:\n",
      " Empty DataFrame\n",
      "Columns: [PassengerId, Name, Sex, Age, SibSp, Parch, Ticket, Fare, Embarked, Survived]\n",
      "Index: []\n"
     ]
    }
   ],
   "source": [
    "# Check for duplicate rows\n",
    "duplicates = df[df.duplicated()]\n",
    "print(\"Duplicate rows:\\n\", duplicates)"
   ]
  },
  {
   "cell_type": "code",
   "execution_count": 10,
   "metadata": {},
   "outputs": [],
   "source": [
    "df = pd.get_dummies(df, columns=['Embarked'], drop_first=True)"
   ]
  },
  {
   "cell_type": "code",
   "execution_count": 2,
   "metadata": {},
   "outputs": [
    {
     "data": {
      "image/png": "[encoded data removed]",
      "text/plain": [
       "<Figure size 1000x600 with 1 Axes>"
      ]
     },
     "metadata": {},
     "output_type": "display_data"
    }
   ],
   "source": [
    "import pandas as pd\n",
    "import numpy as np\n",
    "import matplotlib.pyplot as plt\n",
    "import seaborn as sns\n",
    "\n",
    "# Load the Titanic dataset (make sure to adjust the path if necessary)\n",
    "df = pd.read_csv('titanic.csv')\n",
    "\n",
    "# Visualize the Age distribution of Titanic passengers\n",
    "plt.figure(figsize=(10, 6))\n",
    "sns.histplot(df['Age'], bins=30, kde=True)\n",
    "plt.title('Age Distribution of Titanic Passengers')\n",
    "plt.xlabel('Age')\n",
    "plt.ylabel('Frequency')\n",
    "plt.savefig('age_distribution.png')  # Save the plot as an image\n",
    "plt.show()"
   ]
  },
  {
   "cell_type": "code",
   "execution_count": null,
   "metadata": {},
   "outputs": [],
   "source": []
  }
 ],
 "metadata": {
  "kernelspec": {
   "display_name": "Python 3 (ipykernel)",
   "language": "python",
   "name": "python3"
  },
  "language_info": {
   "codemirror_mode": {
    "name": "ipython",
    "version": 3
   },
   "file_extension": ".py",
   "mimetype": "text/x-python",
   "name": "python",
   "nbconvert_exporter": "python",
   "pygments_lexer": "ipython3",
   "version": "3.12.6"
  }
 },
 "nbformat": 4,
 "nbformat_minor": 4
}
